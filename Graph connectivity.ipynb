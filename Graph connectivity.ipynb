{
 "cells": [
  {
   "cell_type": "code",
   "execution_count": 38,
   "metadata": {
    "collapsed": true
   },
   "outputs": [],
   "source": [
    "import pulp"
   ]
  },
  {
   "cell_type": "code",
   "execution_count": 39,
   "metadata": {
    "collapsed": true
   },
   "outputs": [],
   "source": [
    "my_lp_problem = pulp.LpProblem(\"Graph min cost\", pulp.LpMinimize)"
   ]
  },
  {
   "cell_type": "code",
   "execution_count": 52,
   "metadata": {},
   "outputs": [
    {
     "data": {
      "text/plain": [
       "'\\nGraph description\\n\\n   X\\n 1/|\\\\ 4\\n / | X 3|  X\\n \\\\ | /\\n 2\\\\|/ 5\\n   X\\n\\nAll the initial capacities are 1. Max flow is 2. Which means no flow through edge 3\\nI remove edge 2 i.e. set its capacity to 0 and then try to find min cost for same flow.\\nWe expect capacity of edge 1 to be set to 2.\\n\\nCost function\\nCost of increasing capacity on any edge by factor of x is x.\\n'"
      ]
     },
     "execution_count": 52,
     "metadata": {},
     "output_type": "execute_result"
    }
   ],
   "source": [
    "'''\n",
    "Graph description\n",
    "\n",
    "   X\n",
    " 1/|\\ 4\n",
    " / | \\\n",
    "X 3|  X\n",
    " \\ | /\n",
    " 2\\|/ 5\n",
    "   X\n",
    "\n",
    "All the initial capacities are 1. Max flow is 2. Which means no flow through edge 3\n",
    "I remove edge 2 i.e. set its capacity to 0 and then try to find min cost for same flow.\n",
    "We expect capacity of edge 1 to be set to 2.\n",
    "\n",
    "Cost function\n",
    "Cost of increasing capacity on any edge by factor of x is x.\n",
    "'''"
   ]
  },
  {
   "cell_type": "code",
   "execution_count": 41,
   "metadata": {
    "collapsed": true
   },
   "outputs": [],
   "source": [
    "#Capacities of edges\n",
    "c1 = 1\n",
    "c2 = 0\n",
    "c3 = 1\n",
    "c4 = 1\n",
    "c5 = 1"
   ]
  },
  {
   "cell_type": "code",
   "execution_count": 42,
   "metadata": {
    "collapsed": true
   },
   "outputs": [],
   "source": [
    "#Scaling factors of capacity\n",
    "x1 = pulp.LpVariable('x1', lowBound=1, cat='Continuous')\n",
    "x2 = pulp.LpVariable('x2', lowBound=1, cat='Continuous')\n",
    "x3 = pulp.LpVariable('x3', lowBound=1, cat='Continuous')\n",
    "x4 = pulp.LpVariable('x4', lowBound=1, cat='Continuous')\n",
    "x5 = pulp.LpVariable('x5', lowBound=1, cat='Continuous')"
   ]
  },
  {
   "cell_type": "code",
   "execution_count": 43,
   "metadata": {
    "collapsed": true
   },
   "outputs": [],
   "source": [
    "#Flow values for edges\n",
    "y1 = pulp.LpVariable('y1', lowBound=0, cat='Continuous')\n",
    "y2 = pulp.LpVariable('y2', lowBound=0, cat='Continuous')\n",
    "y3 = pulp.LpVariable('y3', lowBound=0, cat='Continuous')\n",
    "y4 = pulp.LpVariable('y4', lowBound=0, cat='Continuous')\n",
    "y5 = pulp.LpVariable('y5', lowBound=0, cat='Continuous')"
   ]
  },
  {
   "cell_type": "code",
   "execution_count": 44,
   "metadata": {},
   "outputs": [],
   "source": [
    "# Objective function\n",
    "my_lp_problem += (x1-1) + (x2-1) + (x3-1) + (x4-1) + (x5-1), \"Z\""
   ]
  },
  {
   "cell_type": "code",
   "execution_count": 45,
   "metadata": {},
   "outputs": [],
   "source": [
    "# Constraints\n",
    "# Flow conservation\n",
    "my_lp_problem += y1 + y2 >= 2\n",
    "my_lp_problem += y1 + y2 <= 2\n",
    "my_lp_problem += y1 >= y3 + y4\n",
    "my_lp_problem += y1 <= y3 + y4\n",
    "my_lp_problem += y3 >= y5\n",
    "my_lp_problem += y3 <= y5\n",
    "my_lp_problem += y4 + y5 >= 2\n",
    "my_lp_problem += y4 + y5 <= 2"
   ]
  },
  {
   "cell_type": "code",
   "execution_count": 46,
   "metadata": {},
   "outputs": [],
   "source": [
    "#Capacity constraints\n",
    "my_lp_problem += y1 <= x1\n",
    "my_lp_problem += y2 <= x2\n",
    "my_lp_problem += y3 <= x3\n",
    "my_lp_problem += y4 <= x4\n",
    "my_lp_problem += y5 <= x5"
   ]
  },
  {
   "cell_type": "code",
   "execution_count": 47,
   "metadata": {},
   "outputs": [
    {
     "data": {
      "text/plain": [
       "Graph min cost:\n",
       "MINIMIZE\n",
       "1*x1 + 1*x2 + 1*x3 + 1*x4 + 1*x5 + -5\n",
       "SUBJECT TO\n",
       "_C1: y1 + y2 >= 2\n",
       "\n",
       "_C2: y1 + y2 <= 2\n",
       "\n",
       "_C3: y1 - y3 - y4 >= 0\n",
       "\n",
       "_C4: y1 - y3 - y4 <= 0\n",
       "\n",
       "_C5: y3 - y5 >= 0\n",
       "\n",
       "_C6: y3 - y5 <= 0\n",
       "\n",
       "_C7: y4 + y5 >= 2\n",
       "\n",
       "_C8: y4 + y5 <= 2\n",
       "\n",
       "_C9: - x1 + y1 <= 0\n",
       "\n",
       "_C10: - x2 + y2 <= 0\n",
       "\n",
       "_C11: - x3 + y3 <= 0\n",
       "\n",
       "_C12: - x4 + y4 <= 0\n",
       "\n",
       "_C13: - x5 + y5 <= 0\n",
       "\n",
       "VARIABLES\n",
       "1 <= x1 Continuous\n",
       "1 <= x2 Continuous\n",
       "1 <= x3 Continuous\n",
       "1 <= x4 Continuous\n",
       "1 <= x5 Continuous\n",
       "y1 Continuous\n",
       "y2 Continuous\n",
       "y3 Continuous\n",
       "y4 Continuous\n",
       "y5 Continuous"
      ]
     },
     "execution_count": 47,
     "metadata": {},
     "output_type": "execute_result"
    }
   ],
   "source": [
    "my_lp_problem"
   ]
  },
  {
   "cell_type": "code",
   "execution_count": 48,
   "metadata": {},
   "outputs": [
    {
     "data": {
      "text/plain": [
       "1"
      ]
     },
     "execution_count": 48,
     "metadata": {},
     "output_type": "execute_result"
    }
   ],
   "source": [
    "my_lp_problem.solve()"
   ]
  },
  {
   "cell_type": "code",
   "execution_count": 49,
   "metadata": {},
   "outputs": [
    {
     "data": {
      "text/plain": [
       "'Optimal'"
      ]
     },
     "execution_count": 49,
     "metadata": {},
     "output_type": "execute_result"
    }
   ],
   "source": [
    "pulp.LpStatus[my_lp_problem.status]"
   ]
  },
  {
   "cell_type": "code",
   "execution_count": 50,
   "metadata": {},
   "outputs": [
    {
     "name": "stdout",
     "output_type": "stream",
     "text": [
      "x1 = 2.0\n",
      "x2 = 1.0\n",
      "x3 = 1.0\n",
      "x4 = 1.0\n",
      "x5 = 1.0\n",
      "y1 = 2.0\n",
      "y2 = 0.0\n",
      "y3 = 1.0\n",
      "y4 = 1.0\n",
      "y5 = 1.0\n"
     ]
    }
   ],
   "source": [
    "for variable in my_lp_problem.variables():\n",
    "    print(\"{} = {}\".format(variable.name, variable.varValue))"
   ]
  },
  {
   "cell_type": "code",
   "execution_count": 51,
   "metadata": {},
   "outputs": [
    {
     "name": "stdout",
     "output_type": "stream",
     "text": [
      "1.0\n"
     ]
    }
   ],
   "source": [
    "print(pulp.value(my_lp_problem.objective))"
   ]
  },
  {
   "cell_type": "code",
   "execution_count": null,
   "metadata": {
    "collapsed": true
   },
   "outputs": [],
   "source": []
  }
 ],
 "metadata": {
  "kernelspec": {
   "display_name": "Python 3",
   "language": "python",
   "name": "python3"
  },
  "language_info": {
   "codemirror_mode": {
    "name": "ipython",
    "version": 3
   },
   "file_extension": ".py",
   "mimetype": "text/x-python",
   "name": "python",
   "nbconvert_exporter": "python",
   "pygments_lexer": "ipython3",
   "version": "3.6.2"
  }
 },
 "nbformat": 4,
 "nbformat_minor": 2
}
